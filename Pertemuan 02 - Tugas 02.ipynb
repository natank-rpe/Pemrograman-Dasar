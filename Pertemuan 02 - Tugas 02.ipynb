{
  "nbformat": 4,
  "nbformat_minor": 0,
  "metadata": {
    "colab": {
      "provenance": [],
      "authorship_tag": "ABX9TyObXIUDSRzbRhAmodOrIcOb",
      "include_colab_link": true
    },
    "kernelspec": {
      "name": "python3",
      "display_name": "Python 3"
    },
    "language_info": {
      "name": "python"
    }
  },
  "cells": [
    {
      "cell_type": "markdown",
      "metadata": {
        "id": "view-in-github",
        "colab_type": "text"
      },
      "source": [
        "<a href=\"https://colab.research.google.com/github/natank-rpe/Pemrograman-Dasar/blob/main/Pertemuan%2002%20-%20Tugas%2002.ipynb\" target=\"_parent\"><img src=\"https://colab.research.google.com/assets/colab-badge.svg\" alt=\"Open In Colab\"/></a>"
      ]
    },
    {
      "cell_type": "code",
      "execution_count": null,
      "metadata": {
        "id": "7wXD4NvBFFNH",
        "colab": {
          "base_uri": "https://localhost:8080/"
        },
        "outputId": "71c816a7-a9eb-45d8-d152-ce344658c440"
      },
      "outputs": [
        {
          "output_type": "stream",
          "name": "stdout",
          "text": [
            "Natanael Ketaren\n",
            "23\n",
            "False\n"
          ]
        }
      ],
      "source": [
        "\"\"\"\n",
        "Soal nomor 1\n",
        "TODO :\n",
        "Buatlah variabel firstName, lastName, age, isMarried dengan ketentuan:\n",
        "- firstName: isi dengan nama depan Anda bertipe data string.\n",
        "- lastName: isi dengan nama belakang Anda bertipe data string.\n",
        "- age: isi dengan umur Anda bertipe data integer.\n",
        "- isMarried: isi dengan status pernikahan Anda bertipe data boolean.\n",
        "\n",
        "Catatan:\n",
        "- Value variabel harus berupa nilai sesungguhnya (literal) seperti string,\n",
        "  bilangan bulat (integer), dan boolean (benar atau salah)\n",
        "\"\"\"\n",
        "\n",
        "# TODO: Silakan buat kode Anda di bawah ini.\n",
        "\n",
        "firstName = 'Natanael'\n",
        "lastName = 'Ketaren'\n",
        "age = 23\n",
        "isMarried = False\n",
        "\n",
        "print(firstName, lastName)\n",
        "print(age)\n",
        "print(isMarried)"
      ]
    },
    {
      "cell_type": "code",
      "source": [
        "\"\"\"\n",
        "Soal nomor 2\n",
        "TODO: Buatlah variabel dictionary dengan nama \"data_diri\",\n",
        "variabel tersebut berisi identitas diri Anda berdasarkan ketentuan berikut.\n",
        "- Memiliki key bernama \"firstName\":\n",
        "    - Isi value dengan nama depan Anda, pastikan bertipe data string.\n",
        "- Memiliki key bernama \"lastName\":\n",
        "    - Isi value dengan nama terakhir Anda, pastikan bertipe data string.\n",
        "- Memiliki key bernama \"age\":\n",
        "    - Isi value dengan umur Anda, pastikan bertipe data integer.\n",
        "- Memiliki key bernama \"isMarried\":\n",
        "    - Isi value dengan status pernikahan Anda, pastikan bertipe data boolean.\n",
        "\n",
        "Catatan:\n",
        "- Value variabel harus berupa nilai sesungguhnya (literal) seperti string,\n",
        "  bilangan bulat (integer), dan boolean (benar atau salah)\n",
        "\"\"\"\n",
        "\n",
        "# TODO: Silakan buat kode Anda di bawah ini.\n",
        "\n",
        "data_diri = {\n",
        "    'firstName': 'Natanael',\n",
        "    'lastName': 'Ketaren',\n",
        "    'age': 23,\n",
        "    'isMarried': False\n",
        "}\n",
        "print(data_diri)"
      ],
      "metadata": {
        "id": "NSgBckKSx-Oq",
        "colab": {
          "base_uri": "https://localhost:8080/"
        },
        "outputId": "a51e4b8b-2e32-48d9-96be-cf3d58436ddb"
      },
      "execution_count": null,
      "outputs": [
        {
          "output_type": "stream",
          "name": "stdout",
          "text": [
            "{'firstName': 'Natanael', 'lastName': 'Ketaren', 'age': 23, 'isMarried': False}\n"
          ]
        }
      ]
    },
    {
      "cell_type": "code",
      "source": [
        "\"\"\"\n",
        "Soal nomor 3\n",
        "TODO:\n",
        "1. Buatlah variabel inspeksi bertipe data list untuk menyimpan daftar inspeksi dengan isian sebagai berikut.\n",
        "    - pemahaman terhadap rencana dan desain\n",
        "    - ketersediaan bahan dan peralatan\n",
        "    - pengawasan pekerjaan\n",
        "    - kualitas konstruksi\n",
        "    - keselamatan kerja\n",
        "    - koordinasi dengan pemilik proyek\n",
        "\"\"\"\n",
        "# Tulislah kode jawaban di bawah ini\n",
        "\n",
        "inspeksi = [\n",
        "      \"pemahaman terhadap rencana dan desain\",\n",
        "      \"ketersediaan bahan dan peralatan\",\n",
        "      \"pengawasan pekerjaan\",\n",
        "      \"kualitas konstruksi\",\n",
        "      \"keselamatan kerja\",\n",
        "      \"koordinasi dengan pemilik proyek\"\n",
        "]\n",
        "\n",
        "print (inspeksi)"
      ],
      "metadata": {
        "colab": {
          "base_uri": "https://localhost:8080/"
        },
        "id": "x7np27BZuEwp",
        "outputId": "a79abadb-f089-40a1-a105-a4a16e18352c"
      },
      "execution_count": 1,
      "outputs": [
        {
          "output_type": "stream",
          "name": "stdout",
          "text": [
            "['pemahaman terhadap rencana dan desain', 'ketersediaan bahan dan peralatan', 'pengawasan pekerjaan', 'kualitas konstruksi', 'keselamatan kerja', 'koordinasi dengan pemilik proyek']\n"
          ]
        }
      ]
    },
    {
      "cell_type": "code",
      "source": [
        "\"\"\"\n",
        "Soal nomor 4\n",
        "TODO:\n",
        "  1. Buatlah variabel startTime bertipe data dictionary sebagai waktu datang dengan kriteria berikut.\n",
        "    - key \"HH\" bernilai angka 9\n",
        "    - key \"mm\" bernilai angka 23\n",
        "    - key \"ss\" bernilai angka 57\n",
        "  2. Buatlah variabel endTime bertipa data dictionary sebagai waktu pulang dengan kriteria berikut.\n",
        "    - key \"HH\" bernilai angka 15\n",
        "    - key \"mm\" bernilai angka 25\n",
        "    - key \"ss\" bernilai angka 43\n",
        "\"\"\"\n",
        "\n",
        "# Tulis kode anda di bawah ini\n",
        "\n",
        "startTime = {\n",
        "    'HH': 9,\n",
        "    'mm': 23,\n",
        "    'ss': 57\n",
        "}\n",
        "\n",
        "endTime = {\n",
        "    'HH': 15,\n",
        "    'mm': 25,\n",
        "    'ss': 43\n",
        "}\n",
        "\n",
        "print('Waktu datang:', f\"{startTime['HH']:02d}:{startTime['mm']:02d}:{startTime['ss']:02d}\")\n",
        "print('Waktu pulang:', f\"{endTime['HH']:02d}:{endTime['mm']:02d}:{endTime['ss']:02d}\")"
      ],
      "metadata": {
        "colab": {
          "base_uri": "https://localhost:8080/"
        },
        "id": "YchbILKuzwUe",
        "outputId": "c5fa452d-d115-4910-f4cc-0ec2736f38de"
      },
      "execution_count": null,
      "outputs": [
        {
          "output_type": "stream",
          "name": "stdout",
          "text": [
            "Waktu datang: 09:23:57\n",
            "Waktu pulang: 15:25:43\n"
          ]
        }
      ]
    },
    {
      "cell_type": "code",
      "source": [
        "\"\"\"\n",
        "Soal nomor 5\n",
        "TODO:\n",
        "# STUDI KASUS : PENGGABUNGAN DAN ANALISIS KATALOG PRODUK\n",
        "#\n",
        "# Skenario: Dua pemasok memberikan katalog produk mereka dalam bentuk 'set'.\n",
        "# Anda juga memiliki daftar produk yang sedang diskon dalam bentuk 'tuple'.\n",
        "#\n",
        "# Tugas:\n",
        "# 1. Gabungan 'katalog_A' dan 'katalog_B' menjadi satu 'set' bernama\n",
        "#     'katalog_lengkap' yang berisi semua produk unik.\n",
        "# 2. Cari produk mana saja dari 'katalog_lengkap' yang ada juga di\n",
        "#     'produk_diskon'. Simpan hasilnya dalam variabel 'produk_promo_aktif'.\n",
        "# (Gunakan operasi 'intersection' pada set).\n",
        "\n",
        "\"\"\"\n",
        "# TODO: Silakan buat kode jawaban di bawah ini.\n",
        "\n",
        "# Katalog produk A dan B\n",
        "katalog_A = {\"AC Split\", \"Ducting\", \"Chiller\", \"Cooling Tower\"}\n",
        "katalog_B = {\"Oil Cooler\", \"Thermostat\", \"AC Split\", \"AHU\"}\n",
        "\n",
        "# Daftar produk diskon\n",
        "produk_diskon = (\"Chiller\", \"Thermostat\", \"Cooling Tower\")\n",
        "\n",
        "# Gabungan katalog A dan B\n",
        "katalog_lengkap = katalog_A.union(katalog_B)\n",
        "\n",
        "# Mencara produk yang ada di katalog dan produk diskon\n",
        "produk_promo_aktif = katalog_lengkap.intersection(produk_diskon)\n",
        "\n",
        "print(f\"Katalog lengkap:\", katalog_lengkap)\n",
        "print(f\"Produk promo aktif:\", produk_promo_aktif)"
      ],
      "metadata": {
        "colab": {
          "base_uri": "https://localhost:8080/"
        },
        "id": "pCnT7kxfEUKB",
        "outputId": "eff87ef8-fffa-4520-a315-7436d9b6c5d4"
      },
      "execution_count": 1,
      "outputs": [
        {
          "output_type": "stream",
          "name": "stdout",
          "text": [
            "Katalog lengkap: {'Cooling Tower', 'Thermostat', 'Oil Cooler', 'Ducting', 'AC Split', 'Chiller', 'AHU'}\n",
            "Produk promo aktif: {'Chiller', 'Cooling Tower', 'Thermostat'}\n"
          ]
        }
      ]
    }
  ]
}