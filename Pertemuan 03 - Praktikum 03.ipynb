{
  "nbformat": 4,
  "nbformat_minor": 0,
  "metadata": {
    "colab": {
      "provenance": [],
      "authorship_tag": "ABX9TyNihVnivofPvplTnwtnlb1r",
      "include_colab_link": true
    },
    "kernelspec": {
      "name": "python3",
      "display_name": "Python 3"
    },
    "language_info": {
      "name": "python"
    }
  },
  "cells": [
    {
      "cell_type": "markdown",
      "metadata": {
        "id": "view-in-github",
        "colab_type": "text"
      },
      "source": [
        "<a href=\"https://colab.research.google.com/github/natank-rpe/Pemrograman-Dasar/blob/main/Pertemuan%2003%20-%20Praktikum%2003.ipynb\" target=\"_parent\"><img src=\"https://colab.research.google.com/assets/colab-badge.svg\" alt=\"Open In Colab\"/></a>"
      ]
    },
    {
      "cell_type": "code",
      "source": [
        "# Input Output\n",
        "\n",
        "# Fungsi untuk menerima input\n",
        "\n",
        "total = input(\"Berapa porsi makan yang Anda beli?: \")\n",
        "Nama = input(\"Siapa Nama Pelanggan?: \")"
      ],
      "metadata": {
        "colab": {
          "base_uri": "https://localhost:8080/"
        },
        "id": "IQKHZm8UrtDE",
        "outputId": "d7039973-4c5c-4769-810d-b17aa37165e5"
      },
      "execution_count": 24,
      "outputs": [
        {
          "name": "stdout",
          "output_type": "stream",
          "text": [
            "Berapa porsi makan yang Anda beli?: 2\n",
            "Siapa Nama Pelanggan?: Natan\n"
          ]
        }
      ]
    },
    {
      "cell_type": "code",
      "source": [
        "# Input Output\n",
        "\n",
        "# Fungsi untuk menerima input sesuai tipe data\n",
        "\n",
        "\"\"\"\n",
        "Ubah ke tipe data float\n",
        "\n",
        "\"\"\"\n",
        "\n",
        "total = float(input(\"Berapa porsi makan yang Anda beli?: \"))\n",
        "Nama = str(input(\"Siapa Nama Pelanggan?: \"))"
      ],
      "metadata": {
        "colab": {
          "base_uri": "https://localhost:8080/"
        },
        "id": "ml_uPnkXrsOX",
        "outputId": "0517e57e-559a-44f1-d3f5-29a9dabd3d08"
      },
      "execution_count": 26,
      "outputs": [
        {
          "name": "stdout",
          "output_type": "stream",
          "text": [
            "Berapa porsi makan yang Anda beli?: 3\n",
            "Siapa Nama Pelanggan?: Natan\n"
          ]
        }
      ]
    },
    {
      "cell_type": "code",
      "execution_count": 22,
      "metadata": {
        "id": "f6M7mSoQ6TTM",
        "collapsed": true,
        "colab": {
          "base_uri": "https://localhost:8080/"
        },
        "outputId": "c610ea71-2874-4097-9d7d-444578d090b9"
      },
      "outputs": [
        {
          "output_type": "stream",
          "name": "stdout",
          "text": [
            "Natan sedang memesan Mi ayam bakso\n"
          ]
        }
      ],
      "source": [
        "# Input Output\n",
        "\n",
        "# Fungsi untuk menampilkan output\n",
        "\n",
        "food = \"Mi ayam bakso\"\n",
        "print(\"Natan sedang memesan\", food)"
      ]
    },
    {
      "cell_type": "code",
      "source": [
        "# Input Output\n",
        "\n",
        "# Fungsi untuk menampilkan output yang di pisahkan dengan karakter\n",
        "\n",
        "\"\"\"\n",
        "Buatlah contoh penggunaan karakter berikut untuk fungsi output\n",
        "\"\"\"\n",
        "\n",
        "food = \"Mi ayam bakso\"\n",
        "porsi = 3\n",
        "harga = 24500.5\n",
        "\n",
        "# Operator %s untuk string\n",
        "print(\"Natan sedang memesan %s\" % (food))\n",
        "\n",
        "# Operator %d untuk integer\n",
        "print(\"Jumlah porsi yang dipesan %d\" % (porsi))\n",
        "\n",
        "# Operator %f untuk float\n",
        "print(\"Harga per porsi adalah %.2f\" % (harga))"
      ],
      "metadata": {
        "id": "TOYpS4hu2DTH",
        "colab": {
          "base_uri": "https://localhost:8080/"
        },
        "outputId": "77162a30-3e77-4ccc-f1f9-d0e30902d06b"
      },
      "execution_count": 12,
      "outputs": [
        {
          "output_type": "stream",
          "name": "stdout",
          "text": [
            "Natan sedang memesan Mi ayam bakso\n",
            "Jumlah porsi yang dipesan 3\n",
            "Harga per porsi adalah 24500.50\n"
          ]
        }
      ]
    },
    {
      "cell_type": "code",
      "source": [
        "# Input Output\n",
        "\n",
        "# Kalkulator Sederhana\n",
        "\n",
        "a = 20\n",
        "b = 5\n",
        "print(\"Penjumlahan:\", a + b)\n",
        "print(\"Pengurangan:\", a - b)\n",
        "print(\"Perkalian:\", a * b)\n",
        "print(\"Perkalian:\", a / b)"
      ],
      "metadata": {
        "id": "FbaCmI7U2oL0",
        "colab": {
          "base_uri": "https://localhost:8080/"
        },
        "outputId": "eb0a17d3-de28-4a45-b1c8-938d8862c8a5"
      },
      "execution_count": 13,
      "outputs": [
        {
          "output_type": "stream",
          "name": "stdout",
          "text": [
            "Penjumlahan: 25\n",
            "Pengurangan: 15\n",
            "Perkalian: 100\n",
            "Perkalian: 4.0\n"
          ]
        }
      ]
    },
    {
      "cell_type": "code",
      "source": [
        "# Input Output\n",
        "\n",
        "# Mengecek Bilangan\n",
        "\n",
        "bilangan = 8\n",
        "hasil = (bilangan > 0) and (bilangan % 2 == 0)\n",
        "print(\"Genap dan positif?\", hasil)"
      ],
      "metadata": {
        "id": "UvvwmigH3MCg",
        "colab": {
          "base_uri": "https://localhost:8080/"
        },
        "outputId": "69fc5039-0120-4072-c2f8-f833904af8d1"
      },
      "execution_count": 14,
      "outputs": [
        {
          "output_type": "stream",
          "name": "stdout",
          "text": [
            "Genap dan positif? True\n"
          ]
        }
      ]
    },
    {
      "cell_type": "code",
      "source": [
        "# Input Output\n",
        "\n",
        "# Kalkulator Kasir\n",
        "\n",
        "\n",
        "harga_makan = int(input(\"Berapa harga mi ayam per porsi?\"))\n",
        "jumlah_makan = int(input(\"Berapa porsi yang anda beli?\"))\n",
        "total_makan = harga_makan * jumlah_makan\n",
        "\n",
        "print(f\"Harga makan per porsi = {harga_makan}, totalnya adalah {total_makan}\")"
      ],
      "metadata": {
        "id": "DJmR71aj3dvJ",
        "colab": {
          "base_uri": "https://localhost:8080/"
        },
        "outputId": "9a85d947-4c44-4227-82ee-d6d032d66f56"
      },
      "execution_count": 16,
      "outputs": [
        {
          "output_type": "stream",
          "name": "stdout",
          "text": [
            "Berapa harga mi ayam per porsi?12000\n",
            "Berapa porsi yang anda beli?2\n",
            "Harga makan per porsi = 12000, totalnya adalah 24000\n"
          ]
        }
      ]
    },
    {
      "cell_type": "code",
      "source": [
        "# Ekspresi\n",
        "\n",
        "# Konversi Waktu\n",
        "\n",
        "\"\"\"\n",
        "1. Ubah agar variable total_detik bisa menerima inputan melalui keyboard\n",
        "\n",
        "2. Konversikan nilai 358200\n",
        "\"\"\"\n",
        "\n",
        "total_detik = int(input(\"Berapa detik?: \"))\n",
        "jam = total_detik // 3600\n",
        "sisa_detik = total_detik % 3600\n",
        "menit = sisa_detik // 60\n",
        "detik = sisa_detik % 60\n",
        "print(f\"Hasil Konversi: {jam} Jam, {menit} Menit, {detik} Detik\")"
      ],
      "metadata": {
        "id": "MrQUvMBY4F2H",
        "colab": {
          "base_uri": "https://localhost:8080/"
        },
        "outputId": "f5f46913-8d91-4cbb-e8e7-9cb77fada32e"
      },
      "execution_count": 21,
      "outputs": [
        {
          "output_type": "stream",
          "name": "stdout",
          "text": [
            "Berapa detik?: 358200\n",
            "Hasil Konversi: 99 Jam, 30 Menit, 0 Detik\n"
          ]
        }
      ]
    },
    {
      "cell_type": "code",
      "source": [
        "  # Ekspresi\n",
        "\n",
        "  # Menghitung Nilai Akhir Mahasiswa\n",
        "\n",
        "  tugas = 80\n",
        "  uts = 70\n",
        "  uas = 90\n",
        "  nilai_akhir = (0.3 * tugas) + (0.3 * uts) + (0.4 * uas)\n",
        "  print(\"Nilai akhir =\", nilai_akhir)"
      ],
      "metadata": {
        "colab": {
          "base_uri": "https://localhost:8080/"
        },
        "id": "kgKaYPr_4rms",
        "outputId": "354dad20-1104-40eb-eed3-6ee81a60e16f"
      },
      "execution_count": null,
      "outputs": [
        {
          "output_type": "stream",
          "name": "stdout",
          "text": [
            "Nilai akhir = 81.0\n"
          ]
        }
      ]
    },
    {
      "cell_type": "code",
      "source": [
        "# Ekspresi\n",
        "\n",
        "# Menghitung Nilai Akhir Mahasiswa\n",
        "\n",
        "\"\"\"\n",
        "1. Modifikasi agar variable nilai_mahasiswa dan standard_kelulusan bisa\n",
        "menerimpa inputan melalui keyboard\n",
        "2. Modifikasi agar nilai mahasiswa terdri dari 5 variable dengan input\n",
        "via keyboard\n",
        "\"\"\"\n",
        "\n",
        "# Input Nilai Mahasiswa\n",
        "tugas1 = float(input(\"Nilai Tugas 1: \"))\n",
        "tugas2 = float(input(\"Nilai Tugas 2: \"))\n",
        "tugas3 = float(input(\"Nilai Tugas 3: \"))\n",
        "ats = float(input(\"Nilai UTS: \"))\n",
        "aas = float(input(\"Nilai UAS: \"))\n",
        "\n",
        "# Nilai Akhir Mahasiswa (Rata-rata)\n",
        "nilai_mahasiswa = (tugas1 + tugas2 + tugas3 + ats + aas) / 5\n",
        "\n",
        "# Standar Kelulusan\n",
        "standar_kelulusan = float(input(\"Standar Kelulusan: \"))\n",
        "\n",
        "# Ekspresi Logiika\n",
        "apakah_lulus = nilai_mahasiswa >= standar_kelulusan\n",
        "perlu_remedial = nilai_mahasiswa < standar_kelulusan\n",
        "\n",
        "#Output\n",
        "print(f\"Nilai Mahasiswa: {nilai_mahasiswa}\")\n",
        "print(f\"Standar Kelulusan: {standar_kelulusan}\")\n",
        "print(f\"Apakah Mahasiswa Lulus? {apakah_lulus}\")\n",
        "print(f\"Perlu Remedial? {perlu_remedial}\")"
      ],
      "metadata": {
        "id": "D5h7y4Ma8ME9",
        "colab": {
          "base_uri": "https://localhost:8080/"
        },
        "outputId": "427bcb27-ac85-46a8-8a13-ef79910b7003"
      },
      "execution_count": 27,
      "outputs": [
        {
          "output_type": "stream",
          "name": "stdout",
          "text": [
            "Nilai Tugas 1: 82.5\n",
            "Nilai Tugas 2: 87\n",
            "Nilai Tugas 3: 92.5\n",
            "Nilai UTS: 79.5\n",
            "Nilai UAS: 88\n",
            "Standar Kelulusan: 78\n",
            "Nilai Mahasiswa: 85.9\n",
            "Standar Kelulusan: 78.0\n",
            "Apakah Mahasiswa Lulus? True\n",
            "Perlu Remedial? False\n"
          ]
        }
      ]
    },
    {
      "cell_type": "code",
      "source": [
        "# Ekspresi\n",
        "\n",
        "# Total Harga Setelah Diskon\n",
        "\n",
        "\"\"\"\n",
        "1. Modifikasi inputan via keyboard\n",
        "2. Modifikasi agar total diskon yang di berikan menjadi 35% dengan\n",
        "belanja di atas 1.000.000\n",
        "\"\"\"\n",
        "\n",
        "belanja = float(input(\"Total Belanja: \"))\n",
        "diskon = (0, 0.35 * belanja)[belanja > 1000000]\n",
        "total_harga = belanja - diskon\n",
        "print(\"Total harga setelah diskon = Rp\", total_harga)"
      ],
      "metadata": {
        "id": "e_HBjciZ9k4x",
        "colab": {
          "base_uri": "https://localhost:8080/"
        },
        "outputId": "26dec036-81a0-4e97-d330-e7cb66e2190a"
      },
      "execution_count": 34,
      "outputs": [
        {
          "output_type": "stream",
          "name": "stdout",
          "text": [
            "Total Belanja: 1350000\n",
            "Total harga setelah diskon = Rp 877500.0\n"
          ]
        }
      ]
    }
  ]
}