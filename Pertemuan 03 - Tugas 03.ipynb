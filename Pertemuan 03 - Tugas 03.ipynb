{
  "nbformat": 4,
  "nbformat_minor": 0,
  "metadata": {
    "colab": {
      "provenance": [],
      "authorship_tag": "ABX9TyNoY0WY/yXmkiygDvUbLTlG",
      "include_colab_link": true
    },
    "kernelspec": {
      "name": "python3",
      "display_name": "Python 3"
    },
    "language_info": {
      "name": "python"
    }
  },
  "cells": [
    {
      "cell_type": "markdown",
      "metadata": {
        "id": "view-in-github",
        "colab_type": "text"
      },
      "source": [
        "<a href=\"https://colab.research.google.com/github/natank-rpe/Pemrograman-Dasar/blob/main/Pertemuan%2003%20-%20Tugas%2003.ipynb\" target=\"_parent\"><img src=\"https://colab.research.google.com/assets/colab-badge.svg\" alt=\"Open In Colab\"/></a>"
      ]
    },
    {
      "cell_type": "code",
      "execution_count": 6,
      "metadata": {
        "colab": {
          "base_uri": "https://localhost:8080/"
        },
        "id": "e6tpWIMTHzqr",
        "outputId": "4b1b6b54-9fd1-4690-ff1a-f26ecf4a4c3d"
      },
      "outputs": [
        {
          "output_type": "stream",
          "name": "stdout",
          "text": [
            "Tahun: 2025\n",
            "Apakah tahun 2025 merupakan tahun kabisat? False\n"
          ]
        }
      ],
      "source": [
        "# Jawaban Soal Nomor 1\n",
        "\n",
        "# Menentukan Tahun Kabisat\n",
        "\n",
        "# Menginput tahun\n",
        "tahun = int(input(\"Tahun: \"))\n",
        "\n",
        "# Ekspresi logika\n",
        "kabisat = (tahun % 4 == 0 and tahun % 100 != 0) or (tahun % 400 == 0)\n",
        "\n",
        "# Output\n",
        "print(\"Apakah tahun\", tahun, \"merupakan tahun kabisat?\", kabisat)"
      ]
    },
    {
      "cell_type": "code",
      "source": [
        "# Jawaban Soal Nomor 2\n",
        "\n",
        "# Menentukan Tahun Kabisai\n",
        "\n",
        "# Menginput tahun\n",
        "tahun = int(input(\"Tahun: \"))\n",
        "\n",
        "# Ekspresi logika\n",
        "kabisat = (tahun % 400 == 0) or ((tahun % 4 == 0) and (tahun % 100 != 0))\n",
        "\n",
        "# Output\n",
        "if kabisat:\n",
        "  print(f\"Tahun {tahun} adalah tahun Kabisat\")\n",
        "else:\n",
        "  print(f\"Tahun {tahun} bukan tahun Kabisat\")"
      ],
      "metadata": {
        "colab": {
          "base_uri": "https://localhost:8080/"
        },
        "id": "O47L0kvD5uXK",
        "outputId": "0551a990-ec21-4c88-d228-7c1dc7284eae"
      },
      "execution_count": 5,
      "outputs": [
        {
          "output_type": "stream",
          "name": "stdout",
          "text": [
            "Tahun: 2024\n",
            "Tahun 2024 adalah tahun Kabisat\n"
          ]
        }
      ]
    },
    {
      "cell_type": "code",
      "source": [
        "# Jawaban Soal Nomor 3\n",
        "\n",
        "# Program Kasir Sederhana\n",
        "\n",
        "# Input\n",
        "jumlah_item = int(input(\"Masukkan jumlah item yang dibeli: \"))\n",
        "subtotal = 0\n",
        "\n",
        "# Menghitung subtotal dari semua item\n",
        "for i in range(jumlah_item):\n",
        "    harga = float(input(f\"Masukkan harga item ke-{i+1}: Rp \"))\n",
        "    subtotal += harga\n",
        "\n",
        "member = input(\"Apakah pelanggan adalah member? (Ya/Tidak): \").lower()\n",
        "\n",
        "# Evaluasi syarat diskon\n",
        "berhak_diskon = (member == \"ya\") and (subtotal > 100000)\n",
        "\n",
        "# Hitung jumlah diskon\n",
        "diskon = 0.15 * subtotal if berhak_diskon else 0\n",
        "\n",
        "# Hitung harga setelah diskon\n",
        "harga_setelah_diskon = subtotal - diskon\n",
        "\n",
        "# Hitung PPN 11%\n",
        "ppn = 0.11 * harga_setelah_diskon\n",
        "\n",
        "# Hitung total akhir\n",
        "total_akhir = harga_setelah_diskon + ppn\n",
        "\n",
        "# Output\n",
        "print(\"\\n             Total Belanja             \")\n",
        "print(\"                                         \")\n",
        "print(f\"Subtotal                 : Rp {subtotal:,.0f}\")\n",
        "print(f\"Diskon                   : Rp {diskon:,.0f}\")\n",
        "print(f\"Harga Setelah Diskon     : Rp {harga_setelah_diskon:,.0f}\")\n",
        "print(f\"PPN 11%                  : Rp {ppn:,.0f}\")\n",
        "print(f\"Total yang harus dibayar : Rp {total_akhir:,.0f}\")"
      ],
      "metadata": {
        "colab": {
          "base_uri": "https://localhost:8080/"
        },
        "id": "5lrWoneQ7H4b",
        "outputId": "963d217d-1578-42e3-9214-e52bf2d64724"
      },
      "execution_count": 13,
      "outputs": [
        {
          "output_type": "stream",
          "name": "stdout",
          "text": [
            "Masukkan jumlah item yang dibeli: 2\n",
            "Masukkan harga item ke-1: Rp 100000\n",
            "Masukkan harga item ke-2: Rp 80000\n",
            "Apakah pelanggan adalah member? (Ya/Tidak): Ya\n",
            "\n",
            "             Total Belanja             \n",
            "                                         \n",
            "Subtotal                 : Rp 180,000\n",
            "Diskon                   : Rp 27,000\n",
            "Harga Setelah Diskon     : Rp 153,000\n",
            "PPN 11%                  : Rp 16,830\n",
            "Total yang harus dibayar : Rp 169,830\n"
          ]
        }
      ]
    }
  ]
}