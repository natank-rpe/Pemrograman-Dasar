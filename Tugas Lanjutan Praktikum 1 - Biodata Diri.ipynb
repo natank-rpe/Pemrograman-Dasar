{
  "nbformat": 4,
  "nbformat_minor": 0,
  "metadata": {
    "colab": {
      "provenance": [],
      "authorship_tag": "ABX9TyOzKo6uzvf/XWw8SZvgynng",
      "include_colab_link": true
    },
    "kernelspec": {
      "name": "python3",
      "display_name": "Python 3"
    },
    "language_info": {
      "name": "python"
    }
  },
  "cells": [
    {
      "cell_type": "markdown",
      "metadata": {
        "id": "view-in-github",
        "colab_type": "text"
      },
      "source": [
        "<a href=\"https://colab.research.google.com/github/natank-rpe/Pemrograman-Dasar/blob/main/Tugas%20Lanjutan%20Praktikum%201%20-%20Biodata%20Diri.ipynb\" target=\"_parent\"><img src=\"https://colab.research.google.com/assets/colab-badge.svg\" alt=\"Open In Colab\"/></a>"
      ]
    },
    {
      "cell_type": "code",
      "source": [
        "# Biodata Saya\n",
        "\n",
        "nama = \"Natanael Ketaren\"\n",
        "umur = 23\n",
        "tempat_tanggal_lahir = (\"Batam\", 3, \"Januari\", 2002)\n",
        "berat_badan = 58.2\n",
        "drama_korea_favorit = [\"When Life Gives You Tangerine\", \"Summer Strike\", \"Itaewon Class\"]\n",
        "jurusan = \"Teknik Elektro\"\n",
        "prodi = \"Rekayasa Pembangkit Energi\"\n",
        "nim = 4232411001\n",
        "semester = 3\n",
        "matakuliah = 'Pemerograman Dasar'\n",
        "status_lulus = False\n",
        "\n",
        "\n",
        "print (\"          BIODATA DIRI          \")\n",
        "print (\"--------------------------------\")\n",
        "print (f\"Nama                        : {nama}\")\n",
        "print (f\"Umur                        : {umur} tahun\")\n",
        "print (f\"Tempat, Tanggal Lahir       : {tempat_tangal_lahir[0]}, {tempat_tangal_lahir[1]} {tempat_tangal_lahir[2]} {tempat_tangal_lahir[3]}\")\n",
        "print (f\"Berat Badan                 : {berat_badan} kg\")\n",
        "print (f\"Drama Korea Favorit         : {', '.join(drama_korea_favorit)}\")\n",
        "print (f\"Jurusan                     : {jurusan}\")\n",
        "print (f\"Prodi                       : {prodi}\")\n",
        "print (f\"Nomor Induk Mahasiswa (NIM) : {nim}\")\n",
        "print (f\"Semester                    : {semester}\")\n",
        "print (f\"Matakuliah                  : {matakuliah}\")\n",
        "print (f\"Status Lulus                : {status_lulus}\")"
      ],
      "metadata": {
        "colab": {
          "base_uri": "https://localhost:8080/"
        },
        "id": "7lUcOBp_ZF2n",
        "outputId": "afc68150-1afc-44d2-9f62-5a3add27bdf5"
      },
      "execution_count": 6,
      "outputs": [
        {
          "output_type": "stream",
          "name": "stdout",
          "text": [
            "          BIODATA DIRI          \n",
            "--------------------------------\n",
            "Nama                        : Natanael Ketaren\n",
            "Umur                        : 23 tahun\n",
            "Tempat, Tanggal Lahir       : Batam, 3 Januari 2002\n",
            "Berat Badan                 : 58.2 kg\n",
            "Drama Korea Favorit         : When Life Gives You Tangerine, Summer Strike, Itaewon Class\n",
            "Jurusan                     : Teknik Elektro\n",
            "Prodi                       : Rekayasa Pembangkit Energi\n",
            "Nomor Induk Mahasiswa (NIM) : 4232411001\n",
            "Semester                    : 3\n",
            "Matakuliah                  : Pemerograman Dasar\n",
            "Status Lulus                : False\n"
          ]
        }
      ]
    }
  ]
}